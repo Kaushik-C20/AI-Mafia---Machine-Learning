{
 "cells": [
  {
   "cell_type": "code",
   "execution_count": 1,
   "metadata": {},
   "outputs": [
    {
     "name": "stdout",
     "output_type": "stream",
     "text": [
      "[[177 122  51  51]\n",
      " [ 83 120  60  60]]\n"
     ]
    }
   ],
   "source": [
    "import cv2\n",
    "import csv\n",
    "import numpy as np\n",
    "\n",
    "frame=cv2.imread('/Users/kaushikchaturvedula/python/face_recognition/Project_filter/Before.png')\n",
    "mustache=cv2.imread('/Users/kaushikchaturvedula/python/face_recognition/Project_filter/mustache.png')\n",
    "glasses=cv2.imread('/Users/kaushikchaturvedula/python/face_recognition/Project_filter/glasses.png')\n",
    "face_cascade=cv2.CascadeClassifier('/Users/kaushikchaturvedula/python/face_recognition/Project_filter/haarcascade_frontalface_default.xml')\n",
    "eyes_cascade=cv2.CascadeClassifier('/Users/kaushikchaturvedula/python/face_recognition/Project_filter/haarcascade_eye_tree_eyeglasses.xml')\n",
    "nose_cascade=cv2.CascadeClassifier('/Users/kaushikchaturvedula/python/face_recognition/Project_filter/haarcascade_mcs_nose.xml')\n",
    "\n",
    "while True:\n",
    "    gray_frame=cv2.cvtColor(frame,cv2.COLOR_BGR2GRAY)\n",
    "    faces=face_cascade.detectMultiScale(gray_frame,1.2,4)\n",
    "    if(len(faces)==0):\n",
    "        continue\n",
    "    faces=sorted(faces,key=lambda f:f[2]*f[3])\n",
    "    for (x,y,w,h) in faces[-1:]:        #LARGEST AREA\n",
    "        roi_gray = gray_frame[y:y+h, x:x+w]\n",
    "        roi_color = frame[y:y+h, x:x+w]\n",
    "    eyes = eyes_cascade.detectMultiScale(gray_frame)\n",
    "    print(eyes)\n",
    "    for (ex,ey,ew,eh) in eyes:\n",
    "        X1=ex-18\n",
    "        Y1=ey-11\n",
    "        X2=X1+2*ew+55\n",
    "        Y2=ey+eh+20\n",
    "        glasses=cv2.resize(glasses,(X2-X1,Y2-Y1),interpolation=True)\n",
    "        frame[Y1:Y2,X1:X2]=cv2.bitwise_and(frame[Y1:Y2,X1:X2],glasses,mask=None)\n",
    "    noses = nose_cascade.detectMultiScale(gray_frame)\n",
    "    for (ex,ey,ew,eh) in noses:\n",
    "        x1=ex-10\n",
    "        y1=ey+30\n",
    "        x2=ex+ew+25\n",
    "        y2=ey+eh+20\n",
    "        mustache=cv2.resize(mustache,(x2-x1,y2-y1),interpolation=cv2.INTER_AREA)\n",
    "        frame[y1:y2,x1:x2]= cv2.bitwise_and(frame[y1:y2,x1:x2],mustache , mask=None)\n",
    "    cv2.imshow(\"MODIFIED_IMG\",frame)\n",
    "    if cv2.waitKey(0) &0xff == 27:\n",
    "        frame=np.asarray(frame)\n",
    "        frame=frame.reshape((-1,3))\n",
    "        with open('/Users/kaushikchaturvedula/python/face_recognition/Project_filter/test_output.csv', 'w', newline='') as file:\n",
    "            writ_to = csv.writer(file)\n",
    "            for i in frame:\n",
    "                writ_to.writerow(i)\n",
    "        break\n"
   ]
  },
  {
   "cell_type": "code",
   "execution_count": null,
   "metadata": {},
   "outputs": [],
   "source": []
  },
  {
   "cell_type": "code",
   "execution_count": null,
   "metadata": {},
   "outputs": [],
   "source": []
  }
 ],
 "metadata": {
  "kernelspec": {
   "display_name": "Python 3",
   "language": "python",
   "name": "python3"
  },
  "language_info": {
   "codemirror_mode": {
    "name": "ipython",
    "version": 3
   },
   "file_extension": ".py",
   "mimetype": "text/x-python",
   "name": "python",
   "nbconvert_exporter": "python",
   "pygments_lexer": "ipython3",
   "version": "3.7.3"
  }
 },
 "nbformat": 4,
 "nbformat_minor": 2
}
