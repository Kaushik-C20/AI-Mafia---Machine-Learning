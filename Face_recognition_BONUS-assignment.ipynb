{
 "cells": [
  {
   "cell_type": "code",
   "execution_count": null,
   "metadata": {},
   "outputs": [],
   "source": [
    "import cv2\n",
    "import numpy as np\n",
    "face_cascade=cv2.CascadeClassifier('haarcascade_frontalface_default.xml') #Path required if not in same folder\n",
    "eyes_cascade=cv2.CascadeClassifier('haarcascade_eye_tree_eyeglasses.xml')\n",
    "nose_cascade=cv2.CascadeClassifier('haarcascade_mcs_nose.xml')\n",
    "mustache=cv2.imread('mustache.png')\n",
    "glasses=cv2.imread('glasses.png')\n",
    "cap=cv2.VideoCapture(0)\n",
    "\n",
    "while True:\n",
    "    ret,frame=cap.read()\n",
    "    if(ret==False):\n",
    "        continue\n",
    "    frame=cv2.resize(frame,(700,400))\n",
    "    gray_frame=cv2.cvtColor(frame,cv2.COLOR_BGR2GRAY)\n",
    "    faces=face_cascade.detectMultiScale(gray_frame,1.3,5)\n",
    "    if(len(faces)==0):\n",
    "        continue\n",
    "    faces=sorted(faces,key=lambda x:x[2]*x[3]) #LARGEST_AREA\n",
    "    for (x,y,w,h) in faces[-1:]:\n",
    "        roi_gray = gray_frame[y:y+h, x:x+w]\n",
    "        roi_color = frame[y:y+h, x:x+w]\n",
    "    eyes = eyes_cascade.detectMultiScale(gray_frame)\n",
    "    eyes=sorted(eyes,key=lambda x:x[0])\n",
    "    for (ex,ey,ew,eh) in eyes[:1]:\n",
    "        X1=ex-20\n",
    "        Y1=ey-20\n",
    "        X2=X1+2*ew+40\n",
    "        Y2=ey+eh+20\n",
    "        glasses=cv2.resize(glasses,(X2-X1,Y2-Y1),interpolation=cv2.INTER_AREA)\n",
    "        frame[Y1:Y2,X1:X2]=cv2.bitwise_and(frame[Y1:Y2,X1:X2],glasses,mask=None)\n",
    "    nose = nose_cascade.detectMultiScale(gray_frame)\n",
    "    for (ex,ey,ew,eh) in nose[:1]:\n",
    "        print(ex,ey,ew,eh)\n",
    "        x1,x2,y1,y2=ex,ey,ex+ew,ey+eh\n",
    "        if(ex>15):\n",
    "            x1=ex-15\n",
    "        if(ey>23):    \n",
    "            y1=ey+23\n",
    "        if(ex+ew+15<730):\n",
    "            x2=ex+ew+15\n",
    "        if(ey+eh+20<730):\n",
    "            y2=ey+eh+20\n",
    "        mustache=cv2.resize(mustache,(x2-x1,y2-y1),interpolation=cv2.INTER_AREA)\n",
    "        frame[y1:y2,x1:x2]= cv2.bitwise_and(frame[y1:y2,x1:x2],mustache , mask=None)\n",
    "    cv2.imshow(\"MODIFIED_IMG\",frame)\n",
    "    key_pressed=cv2.waitKey(1)\n",
    "    if(key_pressed==ord('q')):\n",
    "        break\n",
    "cap.release()\n",
    "cv2.destroyAllWindows()"
   ]
  },
  {
   "cell_type": "code",
   "execution_count": null,
   "metadata": {},
   "outputs": [],
   "source": []
  }
 ],
 "metadata": {
  "kernelspec": {
   "display_name": "Python 3",
   "language": "python",
   "name": "python3"
  },
  "language_info": {
   "codemirror_mode": {
    "name": "ipython",
    "version": 3
   },
   "file_extension": ".py",
   "mimetype": "text/x-python",
   "name": "python",
   "nbconvert_exporter": "python",
   "pygments_lexer": "ipython3",
   "version": "3.7.3"
  }
 },
 "nbformat": 4,
 "nbformat_minor": 2
}
