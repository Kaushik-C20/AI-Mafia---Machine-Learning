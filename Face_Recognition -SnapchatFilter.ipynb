{
 "cells": [
  {
   "cell_type": "code",
   "execution_count": null,
   "metadata": {},
   "outputs": [],
   "source": [
    "import cv2\n",
    "import numpy as np\n",
    "import matplotlib.pyplot as plt\n",
    "\n",
    "image = cv2.imread(\"/Users/kaushikchaturvedula/python/assignment/Jamie_Before.jpg\", -1)\n",
    "nose_cascade = cv2.CascadeClassifier(\"/Users/kaushikchaturvedula/python/assignment/haarcascade_mcs_nose.xml\")\n",
    "eyes_cascade = cv2.CascadeClassifier(\"/Users/kaushikchaturvedula/python/assignment/haarcascade_eye_tree_eyeglasses.xml\")\n",
    "img = cv2.cvtColor(image, cv2.COLOR_BGR2GRAY)\t\n",
    "nose = nose_cascade.detectMultiScale(img, 1.3, 5) \n",
    "x,y,w,h = nose[0]\n",
    "cv2.rectangle(img, (x,y), (x+h, y+w), (0,255,255), 2)\n",
    "eyes = eyes_cascade.detectMultiScale(img, 1.3, 5)\n",
    "for eye in eyes:\n",
    "    x,y,w,h = eye\n",
    "    cv2.rectangle(img, (x,y), (x+h, y+w), (0,255,255), 2)\n",
    "    break\n",
    "glasses=cv2.imread(\"/Users/kaushikchaturvedula/python/assignment/glasses.png\",-1) \n",
    "mustache=cv2.imread(\"/Users/kaushikchaturvedula/python/assignment/mustache.png\",-1)\n",
    "image = cv2.cvtColor(image, cv2.COLOR_BGR2BGRA)\n",
    "x1,y1,w,h = eyes[0]\n",
    "glasses = cv2.resize(glasses, (h,w))\n",
    "x2,y2,w,h = eyes[1]\n",
    "glasses = cv2.resize(glasses, (h,w))\n",
    "w,h,c = glasses.shape\n",
    "\n",
    "for i in range(0, w):\n",
    "    for j in range(0, h):\n",
    "        if glasses[i,j][3]!=0:\n",
    "            image[y+i,x+j]=glasses[i,j]\n",
    "            \n",
    "x,y,w,h = nose[0]\n",
    "img_section = img[y+(w//2+22):y+w, x:x+h]\n",
    "W=(w//2+22)\n",
    "H=h\n",
    "mustache=cv2.resize(mustache, (H,W))\n",
    "x,y,w,h=nose[0]\n",
    "W,H,c = mustache.shape\n",
    "y=y+(w//2-5)\n",
    "\n",
    "for i in range(0, W):\n",
    "    for j in range(0,H):\n",
    "        if mustache[i,j][3]!=0:\n",
    "            image[y+i,x+j]=mustache[i,j]\n",
    "            \n",
    "coloured = cv2.cvtColor(image, cv2.COLOR_RGBA2BGRA)\n",
    "plt.imshow(coloured)\n",
    "cv2.imshow(\"image\",image)\n",
    "cv2.waitKey(0)\n",
    "cv2.destroyAllWindows()"
   ]
  },
  {
   "cell_type": "code",
   "execution_count": null,
   "metadata": {},
   "outputs": [],
   "source": []
  }
 ],
 "metadata": {
  "kernelspec": {
   "display_name": "Python 3",
   "language": "python",
   "name": "python3"
  },
  "language_info": {
   "codemirror_mode": {
    "name": "ipython",
    "version": 3
   },
   "file_extension": ".py",
   "mimetype": "text/x-python",
   "name": "python",
   "nbconvert_exporter": "python",
   "pygments_lexer": "ipython3",
   "version": "3.7.3"
  }
 },
 "nbformat": 4,
 "nbformat_minor": 2
}
