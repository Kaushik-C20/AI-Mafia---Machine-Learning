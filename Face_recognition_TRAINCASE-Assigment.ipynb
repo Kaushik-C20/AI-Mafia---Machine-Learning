{
 "cells": [
  {
   "cell_type": "code",
   "execution_count": null,
   "metadata": {},
   "outputs": [
    {
     "name": "stdout",
     "output_type": "stream",
     "text": [
      "[[419 374  87  87]\n",
      " [249 380  86  86]\n",
      " [  6 438  88  88]]\n"
     ]
    }
   ],
   "source": [
    "import cv2\n",
    "import numpy as np\n",
    "\n",
    "frame=cv2.imread('/Users/kaushikchaturvedula/python/face_recognition/Project_filter/Jamie_Before.jpg')\n",
    "mustache=cv2.imread('/Users/kaushikchaturvedula/python/face_recognition/Project_filter/mustache.png')\n",
    "glasses=cv2.imread('/Users/kaushikchaturvedula/python/face_recognition/Project_filter/glasses.png')\n",
    "face_cascade=cv2.CascadeClassifier('/Users/kaushikchaturvedula/python/face_recognition/Project_filter/haarcascade_frontalface_default.xml')\n",
    "eyes_cascade=cv2.CascadeClassifier('/Users/kaushikchaturvedula/python/face_recognition/Project_filter/haarcascade_eye_tree_eyeglasses.xml')\n",
    "nose_cascade=cv2.CascadeClassifier('/Users/kaushikchaturvedula/python/face_recognition/Project_filter/haarcascade_mcs_nose.xml')\n",
    "\n",
    "while True:\n",
    "    gray_frame=cv2.cvtColor(frame,cv2.COLOR_BGR2GRAY)\n",
    "    faces=face_cascade.detectMultiScale(gray_frame,1.2,4)\n",
    "    if(len(faces)==0):\n",
    "        continue\n",
    "    faces=sorted(faces,key=lambda f:f[2]*f[3])\n",
    "    for (x,y,w,h) in faces[-1:]:\n",
    "        roi_gray = gray_frame[y:y+h, x:x+w]\n",
    "        roi_color = frame[y:y+h, x:x+w]\n",
    "    eyes = eyes_cascade.detectMultiScale(gray_frame)\n",
    "    print(eyes)\n",
    "    for ex,ey,ew,eh in eyes:\n",
    "        if(ex>40 and ey<300 and ex<250):\n",
    "            init_x=ex\n",
    "            init_y=ey\n",
    "            final_x=init_x+2*ew+25\n",
    "            final_y=ey+eh\n",
    "            glasses=cv2.resize(glasses,(final_x-init_x,final_y-init_y),interpolation=True)\n",
    "            frame[init_y:final_y,init_x:final_x] = cv2.bitwise_and(frame[init_y:final_y,init_x:final_x],glasses,mask=None)\n",
    "    noses=nose_cascade.detectMultiScale(gray_frame)\n",
    "    for (ex,ey,ew,eh) in noses:\n",
    "        init_x=ex-15\n",
    "        init_y=ey+50\n",
    "        final_x=ex+ew+15\n",
    "        final_y=ey+eh+25\n",
    "        mustache=cv2.resize(mustache,(final_x-init_x,final_y-init_y),interpolation=cv2.INTER_AREA)\n",
    "        frame[init_y:final_y,init_x:final_x]= cv2.bitwise_and(frame[init_y:final_y,init_x:final_x],mustache , mask=None)\n",
    "    cv2.imshow(\"gray_frame\",frame)\n",
    "    cv2.waitKey(0)\n",
    "    cv2.destroyAllWindows()\n",
    "    break\n",
    "\n",
    "print(\"hello\")"
   ]
  },
  {
   "cell_type": "code",
   "execution_count": null,
   "metadata": {},
   "outputs": [],
   "source": []
  }
 ],
 "metadata": {
  "kernelspec": {
   "display_name": "Python 3",
   "language": "python",
   "name": "python3"
  },
  "language_info": {
   "codemirror_mode": {
    "name": "ipython",
    "version": 3
   },
   "file_extension": ".py",
   "mimetype": "text/x-python",
   "name": "python",
   "nbconvert_exporter": "python",
   "pygments_lexer": "ipython3",
   "version": "3.7.3"
  }
 },
 "nbformat": 4,
 "nbformat_minor": 2
}
